{
 "cells": [
  {
   "cell_type": "code",
   "execution_count": 1,
   "id": "0e7217de",
   "metadata": {},
   "outputs": [],
   "source": [
    "import matplotlib.pyplot as plt\n",
    "import seaborn as sns\n",
    "import pandas as pd\n",
    "import json"
   ]
  },
  {
   "cell_type": "code",
   "execution_count": 2,
   "id": "d5c73559",
   "metadata": {},
   "outputs": [],
   "source": [
    "sns.set(rc={'figure.figsize':(11.7,8.27)})"
   ]
  },
  {
   "cell_type": "markdown",
   "id": "437bc1a0",
   "metadata": {},
   "source": [
    "# Read data"
   ]
  },
  {
   "cell_type": "code",
   "execution_count": 3,
   "id": "c9cb674d",
   "metadata": {},
   "outputs": [],
   "source": [
    "df = pd.read_csv('output_big.csv')"
   ]
  },
  {
   "cell_type": "code",
   "execution_count": 4,
   "id": "c28caebd",
   "metadata": {},
   "outputs": [],
   "source": [
    "df_best_parameters = pd.read_csv('output_best_parameters.csv')"
   ]
  },
  {
   "cell_type": "code",
   "execution_count": 5,
   "id": "36c1e07c",
   "metadata": {},
   "outputs": [
    {
     "data": {
      "text/html": [
       "<div>\n",
       "<style scoped>\n",
       "    .dataframe tbody tr th:only-of-type {\n",
       "        vertical-align: middle;\n",
       "    }\n",
       "\n",
       "    .dataframe tbody tr th {\n",
       "        vertical-align: top;\n",
       "    }\n",
       "\n",
       "    .dataframe thead th {\n",
       "        text-align: right;\n",
       "    }\n",
       "</style>\n",
       "<table border=\"1\" class=\"dataframe\">\n",
       "  <thead>\n",
       "    <tr style=\"text-align: right;\">\n",
       "      <th></th>\n",
       "      <th>device</th>\n",
       "      <th>hidden_channels</th>\n",
       "      <th>dropout</th>\n",
       "      <th>run_number</th>\n",
       "      <th>lr</th>\n",
       "      <th>epochs</th>\n",
       "      <th>batch_size</th>\n",
       "      <th>hidden_state_factor</th>\n",
       "      <th>l1_weight</th>\n",
       "      <th>l2_weight</th>\n",
       "      <th>...</th>\n",
       "      <th>epoch</th>\n",
       "      <th>optimization_l1</th>\n",
       "      <th>optimization_l2</th>\n",
       "      <th>optimization_loss</th>\n",
       "      <th>train_loss</th>\n",
       "      <th>train_acc</th>\n",
       "      <th>valid_loss</th>\n",
       "      <th>valid_acc</th>\n",
       "      <th>generalization_loss</th>\n",
       "      <th>generalization_acc</th>\n",
       "    </tr>\n",
       "  </thead>\n",
       "  <tbody>\n",
       "    <tr>\n",
       "      <th>count</th>\n",
       "      <td>240000.0</td>\n",
       "      <td>240000.0</td>\n",
       "      <td>2.400000e+05</td>\n",
       "      <td>240000.000000</td>\n",
       "      <td>240000.000000</td>\n",
       "      <td>240000.0</td>\n",
       "      <td>240000.0</td>\n",
       "      <td>240000.0</td>\n",
       "      <td>2.400000e+05</td>\n",
       "      <td>2.400000e+05</td>\n",
       "      <td>...</td>\n",
       "      <td>240000.000000</td>\n",
       "      <td>240000.000000</td>\n",
       "      <td>240000.000000</td>\n",
       "      <td>240000.000000</td>\n",
       "      <td>2.400000e+05</td>\n",
       "      <td>240000.000000</td>\n",
       "      <td>2.400000e+05</td>\n",
       "      <td>240000.000000</td>\n",
       "      <td>2.399900e+05</td>\n",
       "      <td>240000.000000</td>\n",
       "    </tr>\n",
       "    <tr>\n",
       "      <th>mean</th>\n",
       "      <td>0.0</td>\n",
       "      <td>8.0</td>\n",
       "      <td>2.000000e-01</td>\n",
       "      <td>2.000000</td>\n",
       "      <td>0.000072</td>\n",
       "      <td>1000.0</td>\n",
       "      <td>1.0</td>\n",
       "      <td>4.0</td>\n",
       "      <td>1.000000e-04</td>\n",
       "      <td>1.000000e-04</td>\n",
       "      <td>...</td>\n",
       "      <td>500.500000</td>\n",
       "      <td>70.282078</td>\n",
       "      <td>39.744588</td>\n",
       "      <td>0.073045</td>\n",
       "      <td>4.759143e-02</td>\n",
       "      <td>0.972608</td>\n",
       "      <td>5.140686e-02</td>\n",
       "      <td>0.968577</td>\n",
       "      <td>2.416659e+29</td>\n",
       "      <td>0.884823</td>\n",
       "    </tr>\n",
       "    <tr>\n",
       "      <th>std</th>\n",
       "      <td>0.0</td>\n",
       "      <td>0.0</td>\n",
       "      <td>1.110225e-16</td>\n",
       "      <td>1.414217</td>\n",
       "      <td>0.000122</td>\n",
       "      <td>0.0</td>\n",
       "      <td>0.0</td>\n",
       "      <td>0.0</td>\n",
       "      <td>4.065767e-20</td>\n",
       "      <td>4.065767e-20</td>\n",
       "      <td>...</td>\n",
       "      <td>288.675592</td>\n",
       "      <td>333.704706</td>\n",
       "      <td>179.981219</td>\n",
       "      <td>0.166889</td>\n",
       "      <td>1.348323e-01</td>\n",
       "      <td>0.083379</td>\n",
       "      <td>1.488655e-01</td>\n",
       "      <td>0.095714</td>\n",
       "      <td>1.136124e+32</td>\n",
       "      <td>0.173794</td>\n",
       "    </tr>\n",
       "    <tr>\n",
       "      <th>min</th>\n",
       "      <td>0.0</td>\n",
       "      <td>8.0</td>\n",
       "      <td>2.000000e-01</td>\n",
       "      <td>0.000000</td>\n",
       "      <td>0.000010</td>\n",
       "      <td>1000.0</td>\n",
       "      <td>1.0</td>\n",
       "      <td>4.0</td>\n",
       "      <td>1.000000e-04</td>\n",
       "      <td>1.000000e-04</td>\n",
       "      <td>...</td>\n",
       "      <td>1.000000</td>\n",
       "      <td>0.131059</td>\n",
       "      <td>0.101653</td>\n",
       "      <td>0.000000</td>\n",
       "      <td>0.000000e+00</td>\n",
       "      <td>0.401875</td>\n",
       "      <td>0.000000e+00</td>\n",
       "      <td>0.420000</td>\n",
       "      <td>0.000000e+00</td>\n",
       "      <td>0.010000</td>\n",
       "    </tr>\n",
       "    <tr>\n",
       "      <th>25%</th>\n",
       "      <td>0.0</td>\n",
       "      <td>8.0</td>\n",
       "      <td>2.000000e-01</td>\n",
       "      <td>1.000000</td>\n",
       "      <td>0.000010</td>\n",
       "      <td>1000.0</td>\n",
       "      <td>1.0</td>\n",
       "      <td>4.0</td>\n",
       "      <td>1.000000e-04</td>\n",
       "      <td>1.000000e-04</td>\n",
       "      <td>...</td>\n",
       "      <td>250.750000</td>\n",
       "      <td>4.117712</td>\n",
       "      <td>2.076908</td>\n",
       "      <td>0.000018</td>\n",
       "      <td>9.566542e-08</td>\n",
       "      <td>1.000000</td>\n",
       "      <td>6.258486e-08</td>\n",
       "      <td>1.000000</td>\n",
       "      <td>2.203810e-06</td>\n",
       "      <td>0.778000</td>\n",
       "    </tr>\n",
       "    <tr>\n",
       "      <th>50%</th>\n",
       "      <td>0.0</td>\n",
       "      <td>8.0</td>\n",
       "      <td>2.000000e-01</td>\n",
       "      <td>2.000000</td>\n",
       "      <td>0.000010</td>\n",
       "      <td>1000.0</td>\n",
       "      <td>1.0</td>\n",
       "      <td>4.0</td>\n",
       "      <td>1.000000e-04</td>\n",
       "      <td>1.000000e-04</td>\n",
       "      <td>...</td>\n",
       "      <td>500.500000</td>\n",
       "      <td>6.037361</td>\n",
       "      <td>2.807830</td>\n",
       "      <td>0.000305</td>\n",
       "      <td>1.438401e-06</td>\n",
       "      <td>1.000000</td>\n",
       "      <td>1.322923e-06</td>\n",
       "      <td>1.000000</td>\n",
       "      <td>2.724714e-01</td>\n",
       "      <td>0.989000</td>\n",
       "    </tr>\n",
       "    <tr>\n",
       "      <th>75%</th>\n",
       "      <td>0.0</td>\n",
       "      <td>8.0</td>\n",
       "      <td>2.000000e-01</td>\n",
       "      <td>3.000000</td>\n",
       "      <td>0.000047</td>\n",
       "      <td>1000.0</td>\n",
       "      <td>1.0</td>\n",
       "      <td>4.0</td>\n",
       "      <td>1.000000e-04</td>\n",
       "      <td>1.000000e-04</td>\n",
       "      <td>...</td>\n",
       "      <td>750.250000</td>\n",
       "      <td>17.918324</td>\n",
       "      <td>9.811642</td>\n",
       "      <td>0.038326</td>\n",
       "      <td>3.873489e-05</td>\n",
       "      <td>1.000000</td>\n",
       "      <td>2.877983e-05</td>\n",
       "      <td>1.000000</td>\n",
       "      <td>1.526122e+00</td>\n",
       "      <td>1.000000</td>\n",
       "    </tr>\n",
       "    <tr>\n",
       "      <th>max</th>\n",
       "      <td>0.0</td>\n",
       "      <td>8.0</td>\n",
       "      <td>2.000000e-01</td>\n",
       "      <td>4.000000</td>\n",
       "      <td>0.000400</td>\n",
       "      <td>1000.0</td>\n",
       "      <td>1.0</td>\n",
       "      <td>4.0</td>\n",
       "      <td>1.000000e-04</td>\n",
       "      <td>1.000000e-04</td>\n",
       "      <td>...</td>\n",
       "      <td>1000.000000</td>\n",
       "      <td>8123.405789</td>\n",
       "      <td>3828.731709</td>\n",
       "      <td>3.659508</td>\n",
       "      <td>5.356088e+00</td>\n",
       "      <td>1.000000</td>\n",
       "      <td>9.447293e+00</td>\n",
       "      <td>1.000000</td>\n",
       "      <td>5.564998e+34</td>\n",
       "      <td>1.000000</td>\n",
       "    </tr>\n",
       "  </tbody>\n",
       "</table>\n",
       "<p>8 rows × 23 columns</p>\n",
       "</div>"
      ],
      "text/plain": [
       "         device  hidden_channels       dropout     run_number             lr  \\\n",
       "count  240000.0         240000.0  2.400000e+05  240000.000000  240000.000000   \n",
       "mean        0.0              8.0  2.000000e-01       2.000000       0.000072   \n",
       "std         0.0              0.0  1.110225e-16       1.414217       0.000122   \n",
       "min         0.0              8.0  2.000000e-01       0.000000       0.000010   \n",
       "25%         0.0              8.0  2.000000e-01       1.000000       0.000010   \n",
       "50%         0.0              8.0  2.000000e-01       2.000000       0.000010   \n",
       "75%         0.0              8.0  2.000000e-01       3.000000       0.000047   \n",
       "max         0.0              8.0  2.000000e-01       4.000000       0.000400   \n",
       "\n",
       "         epochs  batch_size  hidden_state_factor     l1_weight     l2_weight  \\\n",
       "count  240000.0    240000.0             240000.0  2.400000e+05  2.400000e+05   \n",
       "mean     1000.0         1.0                  4.0  1.000000e-04  1.000000e-04   \n",
       "std         0.0         0.0                  0.0  4.065767e-20  4.065767e-20   \n",
       "min      1000.0         1.0                  4.0  1.000000e-04  1.000000e-04   \n",
       "25%      1000.0         1.0                  4.0  1.000000e-04  1.000000e-04   \n",
       "50%      1000.0         1.0                  4.0  1.000000e-04  1.000000e-04   \n",
       "75%      1000.0         1.0                  4.0  1.000000e-04  1.000000e-04   \n",
       "max      1000.0         1.0                  4.0  1.000000e-04  1.000000e-04   \n",
       "\n",
       "       ...          epoch  optimization_l1  optimization_l2  \\\n",
       "count  ...  240000.000000    240000.000000    240000.000000   \n",
       "mean   ...     500.500000        70.282078        39.744588   \n",
       "std    ...     288.675592       333.704706       179.981219   \n",
       "min    ...       1.000000         0.131059         0.101653   \n",
       "25%    ...     250.750000         4.117712         2.076908   \n",
       "50%    ...     500.500000         6.037361         2.807830   \n",
       "75%    ...     750.250000        17.918324         9.811642   \n",
       "max    ...    1000.000000      8123.405789      3828.731709   \n",
       "\n",
       "       optimization_loss    train_loss      train_acc    valid_loss  \\\n",
       "count      240000.000000  2.400000e+05  240000.000000  2.400000e+05   \n",
       "mean            0.073045  4.759143e-02       0.972608  5.140686e-02   \n",
       "std             0.166889  1.348323e-01       0.083379  1.488655e-01   \n",
       "min             0.000000  0.000000e+00       0.401875  0.000000e+00   \n",
       "25%             0.000018  9.566542e-08       1.000000  6.258486e-08   \n",
       "50%             0.000305  1.438401e-06       1.000000  1.322923e-06   \n",
       "75%             0.038326  3.873489e-05       1.000000  2.877983e-05   \n",
       "max             3.659508  5.356088e+00       1.000000  9.447293e+00   \n",
       "\n",
       "           valid_acc  generalization_loss  generalization_acc  \n",
       "count  240000.000000         2.399900e+05       240000.000000  \n",
       "mean        0.968577         2.416659e+29            0.884823  \n",
       "std         0.095714         1.136124e+32            0.173794  \n",
       "min         0.420000         0.000000e+00            0.010000  \n",
       "25%         1.000000         2.203810e-06            0.778000  \n",
       "50%         1.000000         2.724714e-01            0.989000  \n",
       "75%         1.000000         1.526122e+00            1.000000  \n",
       "max         1.000000         5.564998e+34            1.000000  \n",
       "\n",
       "[8 rows x 23 columns]"
      ]
     },
     "execution_count": 5,
     "metadata": {},
     "output_type": "execute_result"
    }
   ],
   "source": [
    "df_best_parameters.describe()"
   ]
  },
  {
   "cell_type": "markdown",
   "id": "12097e06",
   "metadata": {},
   "source": [
    "# Get the best model per configuration - deprecated, only use last epoch now"
   ]
  },
  {
   "cell_type": "code",
   "execution_count": 7,
   "id": "4a53d396",
   "metadata": {},
   "outputs": [],
   "source": [
    "filtered = list(filter(lambda column_name: column_name not in ['conv', 'filename', 'verbose', 'slurm', 'epoch', 'lr', 'optimization_l1', 'optimization_l2', 'optimization_loss', 'train_loss', 'train_acc', 'valid_loss', 'valid_acc', 'generalization_loss', 'generalization_acc', 'model_string', 'filename' 'slurm', 'test_tube_slurm_cmd_path', 'hpc_exp_number', 'dataset'], df.columns.values))"
   ]
  },
  {
   "cell_type": "code",
   "execution_count": null,
   "id": "5b3205af",
   "metadata": {},
   "outputs": [],
   "source": [
    "df['epoch_rank'] = df.groupby(filtered + ['dataset', 'conv'], as_index=False)['valid_loss'].rank(method='min')\n",
    "best_epochs_df = df[(df.epoch_rank == 1)&(df.dataset != 'midpoint')]"
   ]
  },
  {
   "cell_type": "code",
   "execution_count": null,
   "id": "d22ce089",
   "metadata": {},
   "outputs": [],
   "source": [
    "best_epochs_generalization = best_epochs_df.groupby(filtered + ['dataset', 'conv'], as_index=False)['generalization_loss'].last()"
   ]
  },
  {
   "cell_type": "code",
   "execution_count": null,
   "id": "5a6796ee",
   "metadata": {},
   "outputs": [],
   "source": [
    "best_models = best_epochs_generalization.groupby(filtered, as_index=False)['generalization_loss'].sum()"
   ]
  },
  {
   "cell_type": "code",
   "execution_count": null,
   "id": "641106b1",
   "metadata": {},
   "outputs": [],
   "source": [
    "best_models['rank'] = best_models['generalization_loss'].rank(method='min')"
   ]
  },
  {
   "cell_type": "markdown",
   "id": "4aad8023",
   "metadata": {},
   "source": [
    "# Only the last epoch"
   ]
  },
  {
   "cell_type": "code",
   "execution_count": 8,
   "id": "b968acd1",
   "metadata": {},
   "outputs": [],
   "source": [
    "best_models = df[(df.epoch == 1000)&(df.dataset!='midoint')]\n",
    "best_models = best_models.groupby(filtered, as_index=False)['generalization_loss'].sum()\n",
    "best_models['rank'] = best_models['generalization_loss'].rank(method='min')"
   ]
  },
  {
   "cell_type": "markdown",
   "id": "2814ae3f",
   "metadata": {},
   "source": [
    "## The ten best parameter choices overall"
   ]
  },
  {
   "cell_type": "code",
   "execution_count": 9,
   "id": "97d553d8",
   "metadata": {
    "scrolled": false
   },
   "outputs": [
    {
     "data": {
      "text/html": [
       "<div>\n",
       "<style scoped>\n",
       "    .dataframe tbody tr th:only-of-type {\n",
       "        vertical-align: middle;\n",
       "    }\n",
       "\n",
       "    .dataframe tbody tr th {\n",
       "        vertical-align: top;\n",
       "    }\n",
       "\n",
       "    .dataframe thead th {\n",
       "        text-align: right;\n",
       "    }\n",
       "</style>\n",
       "<table border=\"1\" class=\"dataframe\">\n",
       "  <thead>\n",
       "    <tr style=\"text-align: right;\">\n",
       "      <th></th>\n",
       "      <th>device</th>\n",
       "      <th>hidden_channels</th>\n",
       "      <th>dropout</th>\n",
       "      <th>epochs</th>\n",
       "      <th>runs</th>\n",
       "      <th>batch_size</th>\n",
       "      <th>skip_previous</th>\n",
       "      <th>skip_input</th>\n",
       "      <th>hidden_state_factor</th>\n",
       "      <th>use_weight_decay</th>\n",
       "      <th>use_scheduler</th>\n",
       "      <th>use_l1</th>\n",
       "      <th>l1_weight</th>\n",
       "      <th>use_l2</th>\n",
       "      <th>l2_weight</th>\n",
       "      <th>run</th>\n",
       "      <th>generalization_loss</th>\n",
       "      <th>rank</th>\n",
       "    </tr>\n",
       "  </thead>\n",
       "  <tbody>\n",
       "    <tr>\n",
       "      <th>765</th>\n",
       "      <td>0</td>\n",
       "      <td>10</td>\n",
       "      <td>0.2</td>\n",
       "      <td>1000</td>\n",
       "      <td>1</td>\n",
       "      <td>4</td>\n",
       "      <td>True</td>\n",
       "      <td>True</td>\n",
       "      <td>4</td>\n",
       "      <td>False</td>\n",
       "      <td>True</td>\n",
       "      <td>False</td>\n",
       "      <td>0.0001</td>\n",
       "      <td>True</td>\n",
       "      <td>0.0001</td>\n",
       "      <td>0</td>\n",
       "      <td>0.970159</td>\n",
       "      <td>1.0</td>\n",
       "    </tr>\n",
       "    <tr>\n",
       "      <th>477</th>\n",
       "      <td>0</td>\n",
       "      <td>8</td>\n",
       "      <td>0.2</td>\n",
       "      <td>1000</td>\n",
       "      <td>1</td>\n",
       "      <td>4</td>\n",
       "      <td>True</td>\n",
       "      <td>True</td>\n",
       "      <td>4</td>\n",
       "      <td>False</td>\n",
       "      <td>True</td>\n",
       "      <td>False</td>\n",
       "      <td>0.0001</td>\n",
       "      <td>True</td>\n",
       "      <td>0.0001</td>\n",
       "      <td>0</td>\n",
       "      <td>1.061720</td>\n",
       "      <td>2.0</td>\n",
       "    </tr>\n",
       "    <tr>\n",
       "      <th>429</th>\n",
       "      <td>0</td>\n",
       "      <td>8</td>\n",
       "      <td>0.2</td>\n",
       "      <td>1000</td>\n",
       "      <td>1</td>\n",
       "      <td>1</td>\n",
       "      <td>True</td>\n",
       "      <td>True</td>\n",
       "      <td>4</td>\n",
       "      <td>False</td>\n",
       "      <td>True</td>\n",
       "      <td>False</td>\n",
       "      <td>0.0001</td>\n",
       "      <td>True</td>\n",
       "      <td>0.0001</td>\n",
       "      <td>0</td>\n",
       "      <td>1.152831</td>\n",
       "      <td>3.0</td>\n",
       "    </tr>\n",
       "    <tr>\n",
       "      <th>713</th>\n",
       "      <td>0</td>\n",
       "      <td>10</td>\n",
       "      <td>0.2</td>\n",
       "      <td>1000</td>\n",
       "      <td>1</td>\n",
       "      <td>1</td>\n",
       "      <td>True</td>\n",
       "      <td>True</td>\n",
       "      <td>2</td>\n",
       "      <td>False</td>\n",
       "      <td>True</td>\n",
       "      <td>False</td>\n",
       "      <td>0.0001</td>\n",
       "      <td>True</td>\n",
       "      <td>0.0001</td>\n",
       "      <td>0</td>\n",
       "      <td>1.767400</td>\n",
       "      <td>4.0</td>\n",
       "    </tr>\n",
       "    <tr>\n",
       "      <th>141</th>\n",
       "      <td>0</td>\n",
       "      <td>6</td>\n",
       "      <td>0.2</td>\n",
       "      <td>1000</td>\n",
       "      <td>1</td>\n",
       "      <td>1</td>\n",
       "      <td>True</td>\n",
       "      <td>True</td>\n",
       "      <td>4</td>\n",
       "      <td>False</td>\n",
       "      <td>True</td>\n",
       "      <td>False</td>\n",
       "      <td>0.0001</td>\n",
       "      <td>True</td>\n",
       "      <td>0.0001</td>\n",
       "      <td>0</td>\n",
       "      <td>2.125038</td>\n",
       "      <td>5.0</td>\n",
       "    </tr>\n",
       "    <tr>\n",
       "      <th>815</th>\n",
       "      <td>0</td>\n",
       "      <td>10</td>\n",
       "      <td>0.5</td>\n",
       "      <td>1000</td>\n",
       "      <td>1</td>\n",
       "      <td>1</td>\n",
       "      <td>True</td>\n",
       "      <td>True</td>\n",
       "      <td>4</td>\n",
       "      <td>True</td>\n",
       "      <td>True</td>\n",
       "      <td>False</td>\n",
       "      <td>0.0001</td>\n",
       "      <td>True</td>\n",
       "      <td>0.0001</td>\n",
       "      <td>0</td>\n",
       "      <td>2.168237</td>\n",
       "      <td>6.0</td>\n",
       "    </tr>\n",
       "    <tr>\n",
       "      <th>143</th>\n",
       "      <td>0</td>\n",
       "      <td>6</td>\n",
       "      <td>0.2</td>\n",
       "      <td>1000</td>\n",
       "      <td>1</td>\n",
       "      <td>1</td>\n",
       "      <td>True</td>\n",
       "      <td>True</td>\n",
       "      <td>4</td>\n",
       "      <td>True</td>\n",
       "      <td>True</td>\n",
       "      <td>False</td>\n",
       "      <td>0.0001</td>\n",
       "      <td>True</td>\n",
       "      <td>0.0001</td>\n",
       "      <td>0</td>\n",
       "      <td>2.237686</td>\n",
       "      <td>7.0</td>\n",
       "    </tr>\n",
       "    <tr>\n",
       "      <th>189</th>\n",
       "      <td>0</td>\n",
       "      <td>6</td>\n",
       "      <td>0.2</td>\n",
       "      <td>1000</td>\n",
       "      <td>1</td>\n",
       "      <td>4</td>\n",
       "      <td>True</td>\n",
       "      <td>True</td>\n",
       "      <td>4</td>\n",
       "      <td>False</td>\n",
       "      <td>True</td>\n",
       "      <td>False</td>\n",
       "      <td>0.0001</td>\n",
       "      <td>True</td>\n",
       "      <td>0.0001</td>\n",
       "      <td>0</td>\n",
       "      <td>2.475523</td>\n",
       "      <td>8.0</td>\n",
       "    </tr>\n",
       "    <tr>\n",
       "      <th>761</th>\n",
       "      <td>0</td>\n",
       "      <td>10</td>\n",
       "      <td>0.2</td>\n",
       "      <td>1000</td>\n",
       "      <td>1</td>\n",
       "      <td>4</td>\n",
       "      <td>True</td>\n",
       "      <td>True</td>\n",
       "      <td>2</td>\n",
       "      <td>False</td>\n",
       "      <td>True</td>\n",
       "      <td>False</td>\n",
       "      <td>0.0001</td>\n",
       "      <td>True</td>\n",
       "      <td>0.0001</td>\n",
       "      <td>0</td>\n",
       "      <td>2.712478</td>\n",
       "      <td>9.0</td>\n",
       "    </tr>\n",
       "    <tr>\n",
       "      <th>790</th>\n",
       "      <td>0</td>\n",
       "      <td>10</td>\n",
       "      <td>0.5</td>\n",
       "      <td>1000</td>\n",
       "      <td>1</td>\n",
       "      <td>1</td>\n",
       "      <td>False</td>\n",
       "      <td>True</td>\n",
       "      <td>4</td>\n",
       "      <td>True</td>\n",
       "      <td>True</td>\n",
       "      <td>False</td>\n",
       "      <td>0.0001</td>\n",
       "      <td>False</td>\n",
       "      <td>0.0001</td>\n",
       "      <td>0</td>\n",
       "      <td>2.839430</td>\n",
       "      <td>10.0</td>\n",
       "    </tr>\n",
       "  </tbody>\n",
       "</table>\n",
       "</div>"
      ],
      "text/plain": [
       "     device  hidden_channels  dropout  epochs  runs  batch_size  \\\n",
       "765       0               10      0.2    1000     1           4   \n",
       "477       0                8      0.2    1000     1           4   \n",
       "429       0                8      0.2    1000     1           1   \n",
       "713       0               10      0.2    1000     1           1   \n",
       "141       0                6      0.2    1000     1           1   \n",
       "815       0               10      0.5    1000     1           1   \n",
       "143       0                6      0.2    1000     1           1   \n",
       "189       0                6      0.2    1000     1           4   \n",
       "761       0               10      0.2    1000     1           4   \n",
       "790       0               10      0.5    1000     1           1   \n",
       "\n",
       "     skip_previous  skip_input  hidden_state_factor  use_weight_decay  \\\n",
       "765           True        True                    4             False   \n",
       "477           True        True                    4             False   \n",
       "429           True        True                    4             False   \n",
       "713           True        True                    2             False   \n",
       "141           True        True                    4             False   \n",
       "815           True        True                    4              True   \n",
       "143           True        True                    4              True   \n",
       "189           True        True                    4             False   \n",
       "761           True        True                    2             False   \n",
       "790          False        True                    4              True   \n",
       "\n",
       "     use_scheduler  use_l1  l1_weight  use_l2  l2_weight  run  \\\n",
       "765           True   False     0.0001    True     0.0001    0   \n",
       "477           True   False     0.0001    True     0.0001    0   \n",
       "429           True   False     0.0001    True     0.0001    0   \n",
       "713           True   False     0.0001    True     0.0001    0   \n",
       "141           True   False     0.0001    True     0.0001    0   \n",
       "815           True   False     0.0001    True     0.0001    0   \n",
       "143           True   False     0.0001    True     0.0001    0   \n",
       "189           True   False     0.0001    True     0.0001    0   \n",
       "761           True   False     0.0001    True     0.0001    0   \n",
       "790           True   False     0.0001   False     0.0001    0   \n",
       "\n",
       "     generalization_loss  rank  \n",
       "765             0.970159   1.0  \n",
       "477             1.061720   2.0  \n",
       "429             1.152831   3.0  \n",
       "713             1.767400   4.0  \n",
       "141             2.125038   5.0  \n",
       "815             2.168237   6.0  \n",
       "143             2.237686   7.0  \n",
       "189             2.475523   8.0  \n",
       "761             2.712478   9.0  \n",
       "790             2.839430  10.0  "
      ]
     },
     "execution_count": 9,
     "metadata": {},
     "output_type": "execute_result"
    }
   ],
   "source": [
    "best_models[(best_models['rank'] <= 10)].sort_values(by=['rank'])"
   ]
  },
  {
   "cell_type": "markdown",
   "id": "23b92e4b",
   "metadata": {},
   "source": [
    "## The one best model we use for our plots"
   ]
  },
  {
   "cell_type": "code",
   "execution_count": 10,
   "id": "0ab8ccaf",
   "metadata": {},
   "outputs": [],
   "source": [
    "best_model = df[(df.hidden_channels==8)&(df.dropout==0.2)&(df.batch_size==1)&(df.skip_input==True)&(df.skip_previous==False)&(df.hidden_channels==8)&(df.hidden_state_factor==4)&(df.use_weight_decay==True)&(df.use_l2==True)]"
   ]
  },
  {
   "cell_type": "code",
   "execution_count": 11,
   "id": "d88ed2e0",
   "metadata": {},
   "outputs": [],
   "source": [
    "best_model = best_model[best_model.dataset != 'midpoint']"
   ]
  },
  {
   "cell_type": "markdown",
   "id": "1894ffbf",
   "metadata": {},
   "source": [
    "### Get the best epochs for the three datasets and four convolutions"
   ]
  },
  {
   "cell_type": "code",
   "execution_count": 12,
   "id": "f0ff07aa",
   "metadata": {},
   "outputs": [],
   "source": [
    "best_model['epoch_rank'] = best_model.groupby(filtered + ['dataset', 'conv'], as_index=False)['valid_loss'].rank(method='max')\n",
    "best_epochs_best_model = best_model[(best_model.epoch_rank == 1)]"
   ]
  },
  {
   "cell_type": "code",
   "execution_count": 13,
   "id": "ebd4fb30",
   "metadata": {},
   "outputs": [],
   "source": [
    "best_epochs_best_model = best_model[best_model.epoch == 1000]"
   ]
  },
  {
   "cell_type": "code",
   "execution_count": 61,
   "id": "1059ac91",
   "metadata": {},
   "outputs": [
    {
     "data": {
      "image/png": "[encoded data removed]",
      "text/plain": [
       "<Figure size 504x288 with 1 Axes>"
      ]
     },
     "metadata": {},
     "output_type": "display_data"
    }
   ],
   "source": [
    "sns.set(rc={'figure.figsize':(7,4)})\n",
    "plt.style.use(plt.style.available[26])\n",
    "plot_data = best_epochs_best_model.copy()\n",
    "plot_data.dataset = plot_data.dataset.str.replace('tree-path', 'Path Finding')\n",
    "plot_data.dataset = plot_data.dataset.str.replace('prefix', 'Prefix Sum')\n",
    "plot_data.dataset = plot_data.dataset.str.replace('distance', 'Distance')\n",
    "plot = sns.barplot(x='conv', y='generalization_acc', hue='dataset', hue_order = ['Path Finding', 'Prefix Sum', 'Distance'], data=best_epochs_best_model, order=['gin', 'gru', 'gin-mlp', 'gru-mlp'])\n",
    "#plot.set(yscale=\"log\")\n",
    "plt.legend(bbox_to_anchor=(0.5, 1.1), ncol=3, loc='upper center', borderaxespad=0.)\n",
    "plot.set(xlabel =\"Graph convolution\", ylabel = \"Extrapolation accuracy\")\n",
    "\n",
    "plt.savefig('model-comparison.pdf', dpi=300)"
   ]
  },
  {
   "cell_type": "markdown",
   "id": "ef5bd815",
   "metadata": {},
   "source": [
    "# Grokking -> maybe Appendix?"
   ]
  },
  {
   "cell_type": "code",
   "execution_count": null,
   "id": "d6869800",
   "metadata": {},
   "outputs": [],
   "source": [
    "values_best_model = best_model[(best_model.epoch < 200)&(best_model.conv=='gin-mlp')]"
   ]
  },
  {
   "cell_type": "code",
   "execution_count": null,
   "id": "b34eb096",
   "metadata": {},
   "outputs": [],
   "source": [
    "dataset = 'distance'\n",
    "#fig, ax = plt.subplots()\n",
    "sns.set(rc={'figure.figsize':(8,5)})\n",
    "plot = sns.lineplot(x='epoch', y='valid_acc', label='validation accuracy', estimator='mean', data = values_best_model[values_best_model.dataset == dataset])\n",
    "#plot.set(yscale=\"log\")\n",
    "#ax2 = ax.twinx()\n",
    "plot = sns.lineplot(x='epoch', y='generalization_acc', label='generalization accuracy', estimator='mean', data = values_best_model[values_best_model.dataset == dataset])\n",
    "plt.show()"
   ]
  },
  {
   "cell_type": "markdown",
   "id": "f87795fd",
   "metadata": {},
   "source": [
    "# Skip and no skip comparison"
   ]
  },
  {
   "cell_type": "code",
   "execution_count": 77,
   "id": "ecba14b3",
   "metadata": {},
   "outputs": [
    {
     "data": {
      "image/png": "[encoded data removed]",
      "text/plain": [
       "<Figure size 504x288 with 1 Axes>"
      ]
     },
     "metadata": {},
     "output_type": "display_data"
    }
   ],
   "source": [
    "from numpy import median\n",
    "sns.set(rc={'figure.figsize':(7,4)})\n",
    "plt.style.use(plt.style.available[26])\n",
    "#plt.style.use(plt.style.available[26])\n",
    "last_epoch = df[(df.epoch == 1000)&(df.dataset=='prefix')]\n",
    "plot = sns.barplot(x='conv', y='generalization_acc', hue='skip_input', estimator=max, data=last_epoch, ci=None, order=['gin', 'gru', 'gin-mlp', 'gru-mlp'], hue_order = [True, False])\n",
    "plt.legend(bbox_to_anchor=(0.5, 1.1), ncol=2, loc='upper center', borderaxespad=0.)\n",
    "plot.set(xlabel =\"Graph convolution\", ylabel = \"Extrapolation accuracy\")\n",
    "#plot.set(yscale=\"log\")\n",
    "plt.savefig('skip-input-performance.pdf', dpi=300)"
   ]
  },
  {
   "cell_type": "markdown",
   "id": "e951abb7",
   "metadata": {},
   "source": [
    "# Generalization"
   ]
  },
  {
   "cell_type": "markdown",
   "id": "f85a3de1",
   "metadata": {},
   "source": [
    "## This code is not used anymore"
   ]
  },
  {
   "cell_type": "code",
   "execution_count": null,
   "id": "61cd0212",
   "metadata": {},
   "outputs": [],
   "source": [
    "from model import RecGNN\n",
    "import torch\n",
    "import gnn\n",
    "import datasets\n",
    "from torch_geometric.loader import DataLoader\n",
    "from functools import partialmethod\n",
    "from tqdm import tqdm\n",
    "import numpy as np"
   ]
  },
  {
   "cell_type": "code",
   "execution_count": null,
   "id": "66d0e3a9",
   "metadata": {},
   "outputs": [],
   "source": [
    "df_generalization = df_best_parameters.copy()\n",
    "df_generalization['model_rank'] = df_generalization[(df_generalization.epoch == 1000)&(df_generalization.dataset=='prefix')&(df_generalization.conv=='gin-mlp')].groupby(by=['use_l2', 'use_weight_decay'], as_index=False)['generalization_loss'].rank(method='min')\n",
    "df_generalization = df_generalization[df_generalization.epoch == 1000]\n",
    "df_generalization = df_generalization[df_generalization.model_rank == 1]\n",
    "df_generalization[['use_l2', 'use_weight_decay', 'generalization_loss', 'model_string']]"
   ]
  },
  {
   "cell_type": "code",
   "execution_count": null,
   "id": "0d20bae0",
   "metadata": {},
   "outputs": [],
   "source": [
    "sns.set(rc={'figure.figsize':(7,4)})\n",
    "#plt.style.use(plt.style.available[24])\n",
    "plot = sns.lineplot(x='size', y='accuracy', hue=values[['use_l2', 'use_weight_decay']].apply(tuple, axis=1), ci=None, estimator=n, data = values)\n",
    "#plot.set(xscale=\"log\")\n",
    "plt.savefig('generalization.pdf', dpi=300)"
   ]
  },
  {
   "cell_type": "markdown",
   "id": "69017e1c",
   "metadata": {},
   "source": [
    "## This code just reads the csv with the results"
   ]
  },
  {
   "cell_type": "code",
   "execution_count": null,
   "id": "98fd1077",
   "metadata": {},
   "outputs": [],
   "source": [
    "df_generalization = pd.read_csv('output_generalization_gru.csv')"
   ]
  },
  {
   "cell_type": "code",
   "execution_count": null,
   "id": "9d7c557c",
   "metadata": {},
   "outputs": [],
   "source": [
    "results = df_generalization.groupby(by=['dataset', 'size', 'use_l2'], as_index=False).agg({'accuracy':['mean','std']})"
   ]
  },
  {
   "cell_type": "code",
   "execution_count": null,
   "id": "b94b49f2",
   "metadata": {},
   "outputs": [],
   "source": [
    "results[results['use_l2'] == True]"
   ]
  },
  {
   "cell_type": "markdown",
   "id": "6c3c5378",
   "metadata": {},
   "source": [
    "# Stabilization"
   ]
  },
  {
   "cell_type": "code",
   "execution_count": null,
   "id": "582f2c88",
   "metadata": {},
   "outputs": [],
   "source": [
    "dataclass = datasets.PrefixSum()\n",
    "data_stabilization = []\n",
    "tqdm.__init__ = partialmethod(tqdm.__init__, disable=True)\n",
    "dataset = dataclass.makedata(num_graphs=1, num_nodes=100)\n",
    "loader = DataLoader(dataset, batch_size=1, shuffle=False)\n",
    "for i in np.arange(0.0, 15.2, 0.2):\n",
    "    for j in range(len(generalization_models)):\n",
    "        data_stabilization.append([i, gnn.test(generalization_models[j][0], 'cpu', loader, i)[1]] + generalization_models[j][1:])"
   ]
  },
  {
   "cell_type": "markdown",
   "id": "18955ea1",
   "metadata": {},
   "source": [
    "## Use this to read the csv instead of running the model"
   ]
  },
  {
   "cell_type": "code",
   "execution_count": 65,
   "id": "8652fecc",
   "metadata": {},
   "outputs": [],
   "source": [
    "import numpy as np"
   ]
  },
  {
   "cell_type": "code",
   "execution_count": 63,
   "id": "9e184833",
   "metadata": {},
   "outputs": [],
   "source": [
    "df_stabilization = pd.read_csv('output_stabilization.csv')"
   ]
  },
  {
   "cell_type": "code",
   "execution_count": 74,
   "id": "94dbd041",
   "metadata": {},
   "outputs": [
    {
     "data": {
      "image/png": "[encoded data removed]",
      "text/plain": [
       "<Figure size 504x288 with 1 Axes>"
      ]
     },
     "metadata": {},
     "output_type": "display_data"
    }
   ],
   "source": [
    "#values = pd.DataFrame(data_stabilization, columns =['fraction', 'accuracy', 'use_l2', 'use_weight_decay'])\n",
    "sns.set(rc={'figure.figsize':(7,4)})\n",
    "plt.style.use(plt.style.available[26])\n",
    "#g = sns.FacetGrid(df_stabilization, col='dataset')\n",
    "#g.map_dataframe(sns.lineplot, x='factor', y='accuracy', hue='use_l2', estimator=np.mean, ci=None)\n",
    "plot = sns.lineplot(linewidth=2.5, x='factor', y='accuracy', hue='use_l2', estimator=np.mean, ci=None, data = df_stabilization[df_stabilization.dataset=='prefix'], hue_order=[True, False])\n",
    "plt.legend(bbox_to_anchor=(0.5, 1.1), ncol=3, loc='upper center', borderaxespad=0.)\n",
    "plot.set(xlabel =\"Factor of graph size\", ylabel = \"Accuracy\")\n",
    "\n",
    "plt.xscale('log')\n",
    "plt.savefig('stabilization.pdf', dpi=300)"
   ]
  },
  {
   "cell_type": "code",
   "execution_count": null,
   "id": "6b5342b2",
   "metadata": {},
   "outputs": [],
   "source": []
  },
  {
   "cell_type": "code",
   "execution_count": null,
   "id": "6f7eac57",
   "metadata": {},
   "outputs": [],
   "source": []
  },
  {
   "cell_type": "code",
   "execution_count": null,
   "id": "2ef16fdf",
   "metadata": {},
   "outputs": [],
   "source": []
  },
  {
   "cell_type": "code",
   "execution_count": null,
   "id": "eaea1159",
   "metadata": {},
   "outputs": [],
   "source": []
  },
  {
   "cell_type": "code",
   "execution_count": null,
   "id": "c49e78a5",
   "metadata": {},
   "outputs": [],
   "source": []
  },
  {
   "cell_type": "markdown",
   "id": "acf75770",
   "metadata": {},
   "source": [
    "# Nothing useful beyond this point, keep your sanity and stop scrolling"
   ]
  },
  {
   "cell_type": "code",
   "execution_count": null,
   "id": "b7917334",
   "metadata": {},
   "outputs": [],
   "source": [
    "best_model_wo_l2 = df[(df.hidden_channels==8)&(df.dropout==0.2)&(df.batch_size==1)&(df.skip_input==True)&(df.skip_previous==True)&(df.hidden_state_factor==4)&(df.use_weight_decay==False)&(df.use_l2==False)&(df.conv=='gin-mlp')&(df.dataset!='midpoint')]\n",
    "best_model_with_l2 = df[(df.hidden_channels==8)&(df.dropout==0.2)&(df.batch_size==1)&(df.skip_input==True)&(df.skip_previous==True)&(df.hidden_state_factor==4)&(df.use_weight_decay==False)&(df.use_l2==True)&(df.conv=='gin-mlp')&(df.dataset!='midpoint')]"
   ]
  },
  {
   "cell_type": "code",
   "execution_count": null,
   "id": "9fd01e18",
   "metadata": {},
   "outputs": [],
   "source": [
    "model_prefix_wo_l2 = 'model_train_' + best_model_wo_l2[best_model_wo_l2.dataset=='prefix'].model_string.unique()[0]\n",
    "model_prefix_with_l2 = 'model_train_' + best_model_with_l2[best_model_with_l2.dataset=='prefix'].model_string.unique()[0]"
   ]
  },
  {
   "cell_type": "code",
   "execution_count": null,
   "id": "ae13e4f2",
   "metadata": {},
   "outputs": [],
   "source": [
    "model_prefix"
   ]
  },
  {
   "cell_type": "code",
   "execution_count": null,
   "id": "9a13ec16",
   "metadata": {},
   "outputs": [],
   "source": [
    "model_wo_l2 = RecGNN(4, 8, 2, 4, 0.2, 'gin-mlp', True, True)\n",
    "model_with_l2 = RecGNN(4, 8, 2, 4, 0.2, 'gin-mlp', True, True)\n",
    "model_wo_l2.load_state_dict(torch.load(model_prefix_wo_l2, map_location=torch.device('cpu')))\n",
    "model_with_l2.load_state_dict(torch.load(model_prefix_with_l2, map_location=torch.device('cpu')))"
   ]
  },
  {
   "cell_type": "code",
   "execution_count": null,
   "id": "5b2a4c7f",
   "metadata": {},
   "outputs": [],
   "source": [
    "data_generalization = []\n",
    "tqdm.__init__ = partialmethod(tqdm.__init__, disable=True)\n",
    "for i in range(10, 750, 2):\n",
    "    dataset = dataclass.makedata(num_graphs=10, num_nodes=i)\n",
    "    loader = DataLoader(dataset, batch_size=1, shuffle=False)\n",
    "    data_generalization.append([i, gnn.test(model_wo_l2, 'cpu', loader, 1.2)[1], False])\n",
    "    data_generalization.append([i, gnn.test(model_with_l2, 'cpu', loader, 1.2)[1], True])"
   ]
  },
  {
   "cell_type": "code",
   "execution_count": null,
   "id": "1611be85",
   "metadata": {},
   "outputs": [],
   "source": [
    "values = pd.DataFrame(data_generalization, columns =['size', 'accuracy', 'use_l2'])\n",
    "sns.set(rc={'figure.figsize':(7,4)})\n",
    "#plt.style.use(plt.style.available[24])\n",
    "plot = sns.lineplot(x='size', y='accuracy', hue='use_l2', estimator='mean', data = values)\n",
    "plt.savefig('generalization.pdf', dpi=300)"
   ]
  },
  {
   "cell_type": "code",
   "execution_count": null,
   "id": "16c94f8d",
   "metadata": {},
   "outputs": [],
   "source": [
    "data_stabilization = []\n",
    "tqdm.__init__ = partialmethod(tqdm.__init__, disable=True)\n",
    "dataset = dataclass.makedata(num_graphs=10, num_nodes=100)\n",
    "loader = DataLoader(dataset, batch_size=1, shuffle=False)\n",
    "for i in np.arange(0.0, 15.2, 0.2):\n",
    "    #print(i)\n",
    "    data_stabilization.append([i, gnn.test(model_wo_l2, 'cpu', loader, i)[1], False])\n",
    "    data_stabilization.append([i, gnn.test(model_with_l2, 'cpu', loader, i)[1], True])"
   ]
  },
  {
   "cell_type": "code",
   "execution_count": null,
   "id": "5edd898c",
   "metadata": {},
   "outputs": [],
   "source": [
    "values = pd.DataFrame(data_stabilization, columns =['fraction', 'accuracy', 'use_l2'])\n",
    "sns.set(rc={'figure.figsize':(7,4)})\n",
    "#plt.style.use(plt.style.available[24])\n",
    "plot = sns.lineplot(x='fraction', y='accuracy', hue='use_l2', estimator='mean', data = values)\n",
    "plt.savefig('stabilization.pdf', dpi=300)"
   ]
  },
  {
   "cell_type": "code",
   "execution_count": null,
   "id": "13510ecc",
   "metadata": {},
   "outputs": [],
   "source": [
    "best_model = df[(df.hidden_channels==8)&(df.dropout==0.2)&(df.batch_size==1)&(df.skip_input==True)&(df.skip_previous==False)&(df.hidden_channels==8)&(df.hidden_state_factor==4)&(df.use_weight_decay==False)&(df.use_l2==True)&(df.dataset=='prefix')&(df.conv=='gin-mlp')]"
   ]
  },
  {
   "cell_type": "code",
   "execution_count": null,
   "id": "58b06eac",
   "metadata": {},
   "outputs": [],
   "source": [
    "best_model = df[(df.hidden_channels==8)&(df.dropout==0.2)&(df.batch_size==1)&(df.skip_input==True)&(df.skip_previous==False)&(df.hidden_channels==8)&(df.hidden_state_factor==4)&(df.use_weight_decay==False)&(df.use_l2==True)&(df.dataset=='prefix')&(df.conv=='gin-mlp')]\n",
    "plot = sns.lineplot(x='epoch', y='valid_loss', hue='use_l2', estimator='mean', data = best_model)\n",
    "sns.set(rc={'figure.figsize':(10,5)})\n",
    "plot.set(yscale=\"log\")\n",
    "sns.set(rc={'figure.figsize':(10,5)})"
   ]
  },
  {
   "cell_type": "code",
   "execution_count": null,
   "id": "c5f97d85",
   "metadata": {},
   "outputs": [],
   "source": [
    "df.columns.values"
   ]
  },
  {
   "cell_type": "code",
   "execution_count": null,
   "id": "40b3ca2f",
   "metadata": {},
   "outputs": [],
   "source": [
    "best_model = df[(df.hidden_channels==8)&(df.dropout==0.2)&(df.batch_size==1)&(df.skip_input==True)&(df.skip_previous==False)&(df.hidden_channels==8)&(df.hidden_state_factor==4)&(df.use_weight_decay==False)&(df.use_l2==False)&(df.dataset=='prefix')&(df.conv=='gin-mlp')]\n",
    "plot = sns.lineplot(x='epoch', y='valid_loss', hue='use_l2', estimator='mean', data = best_model)\n",
    "sns.set(rc={'figure.figsize':(10,5)})\n",
    "plot.set(yscale=\"log\")"
   ]
  }
 ],
 "metadata": {
  "kernelspec": {
   "display_name": "recGNN",
   "language": "python",
   "name": "recgnn"
  },
  "language_info": {
   "codemirror_mode": {
    "name": "ipython",
    "version": 3
   },
   "file_extension": ".py",
   "mimetype": "text/x-python",
   "name": "python",
   "nbconvert_exporter": "python",
   "pygments_lexer": "ipython3",
   "version": "3.8.13"
  }
 },
 "nbformat": 4,
 "nbformat_minor": 5
}
